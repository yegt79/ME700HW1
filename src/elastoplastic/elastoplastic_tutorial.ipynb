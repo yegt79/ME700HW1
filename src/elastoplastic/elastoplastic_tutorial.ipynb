{
 "cells": [
  {
   "cell_type": "markdown",
   "metadata": {},
   "source": [
    "# Isotropic and Kinematic Hardening Models\n",
    "\n",
    "This notebook demonstrates the use of isotropic and kinematic hardening models with multiple strain increments. It covers:\n",
    "- Isotropic Hardening\n",
    "- Kinematic Hardening\n",
    "- Comparison of both models\n"
   ]
  },
  {
   "cell_type": "code",
   "execution_count": 1,
   "metadata": {},
   "outputs": [],
   "source": [
    "\n",
    "import numpy as np\n",
    "import elastoplastic_functions as ef\n"
   ]
  },
  {
   "cell_type": "markdown",
   "metadata": {},
   "source": [
    "## Example 1: Isotropic Hardening with multiple strain increments\n",
    "\n",
    "This example demonstrates isotropic hardening with multiple strain increments."
   ]
  },
  {
   "cell_type": "code",
   "execution_count": 2,
   "metadata": {},
   "outputs": [],
   "source": [
    "# Example 1: Isotropic Hardening with multiple strain increments\n",
    "print('Example 1: Isotropic Hardening with multiple strain increments')\n",
    "strain_increments = np.linspace(0, 0.1, 10)  # Example: 10 increments from 0 to 0.1\n",
    "sig, ep, Y = ef.run_isotropic_example(sig_0=0, ep_0=0, E=200e3, H=10e3, Y_0=250, strain_increments=strain_increments, n=50)\n",
    "print('Final Stress:', sig[-1], 'Final Plastic Strain:', ep[-1])\n"
   ]
  },
  {
   "cell_type": "markdown",
   "metadata": {},
   "source": [
    "## Example 2: Isotropic Hardening with larger strain increments\n",
    "\n",
    "This example demonstrates isotropic hardening with larger strain increments."
   ]
  },
  {
   "cell_type": "code",
   "execution_count": 3,
   "metadata": {},
   "outputs": [],
   "source": [
    "# Example 2: Isotropic Hardening with larger strain increments\n",
    "print('\\nExample 2: Isotropic Hardening with larger strain increments')\n",
    "strain_increments_large = np.linspace(0, 0.2, 5)  # Larger increments from 0 to 0.2\n",
    "sig, ep, Y = ef.run_isotropic_example(sig_0=0, ep_0=0, E=200e3, H=20e3, Y_0=300, strain_increments=strain_increments_large, n=50)\n",
    "print('Final Stress:', sig[-1], 'Final Plastic Strain:', ep[-1])\n"
   ]
  },
  {
   "cell_type": "markdown",
   "metadata": {},
   "source": [
    "## Example 3: Kinematic Hardening with multiple strain increments\n",
    "\n",
    "This example demonstrates kinematic hardening with multiple strain increments."
   ]
  },
  {
   "cell_type": "code",
   "execution_count": 4,
   "metadata": {},
   "outputs": [],
   "source": [
    "# Example 3: Kinematic Hardening with multiple strain increments\n",
    "print('\\nExample 3: Kinematic Hardening with multiple strain increments')\n",
    "sig, ep, alpha = ef.run_kinematic_example(sig_0=0, ep_0=0, E=200e3, H=15e3, Y_0=275, strain_increments=strain_increments, n=50)\n",
    "print('Final Stress:', sig[-1], 'Final Plastic Strain:', ep[-1])\n"
   ]
  },
  {
   "cell_type": "markdown",
   "metadata": {},
   "source": [
    "## Example 4: Kinematic Hardening with larger strain increments\n",
    "\n",
    "This example demonstrates kinematic hardening with larger strain increments."
   ]
  },
  {
   "cell_type": "code",
   "execution_count": 5,
   "metadata": {},
   "outputs": [],
   "source": [
    "# Example 4: Kinematic Hardening with larger strain increments\n",
    "print('\\nExample 4: Kinematic Hardening with larger strain increments')\n",
    "sig, ep, alpha = ef.run_kinematic_example(sig_0=0, ep_0=0, E=210e3, H=12e3, Y_0=280, strain_increments=strain_increments_large, n=50)\n",
    "print('Final Stress:', sig[-1], 'Final Plastic Strain:', ep[-1])\n"
   ]
  },
  {
   "cell_type": "markdown",
   "metadata": {},
   "source": [
    "## Example 5: Comparison of Isotropic and Kinematic Hardening under same conditions\n",
    "\n",
    "This example compares isotropic and kinematic hardening under the same conditions with multiple strain increments."
   ]
  },
  {
   "cell_type": "code",
   "execution_count": 6,
   "metadata": {},
   "outputs": [],
   "source": [
    "# Example 5: Comparison of Isotropic and Kinematic Hardening under same conditions\n",
    "print('\\nExample 5: Comparing Isotropic and Kinematic Hardening with multiple strain increments')\n",
    "sig_iso, ep_iso, _ = ef.run_isotropic_example(sig_0=0, ep_0=0, E=200e3, H=10e3, Y_0=260, strain_increments=strain_increments, n=50)\n",
    "sig_kin, ep_kin, _ = ef.run_kinematic_example(sig_0=0, ep_0=0, E=200e3, H=10e3, Y_0=260, strain_increments=strain_increments, n=50)\n",
    "print('Isotropic - Final Stress:', sig_iso[-1], 'Final Plastic Strain:', ep_iso[-1])\n",
    "print('Kinematic - Final Stress:', sig_kin[-1], 'Final Plastic Strain:', ep_kin[-1])\n"
   ]
  },
  {
   "cell_type": "markdown",
   "metadata": {},
   "source": [
    "## Tutorial Completed!\n",
    "This concludes the tutorial for isotropic and kinematic hardening models."
   ]
  }
 ],
 "metadata": {
  "kernelspec": {
   "display_name": "Python 3",
   "language": "python",
   "name": "python3"
  },
  "language_info": {
   "codemirror_mode": {
    "name": "ipython",
    "version": 3
   },
   "file_extension": ".py",
   "mimetype": "text/x-python",
   "name": "python",
   "nbconvert_exporter": "python",
   "version": "3.8.8"
  }
 },
 "nbformat": 4,
 "nbformat_minor": 5
}
