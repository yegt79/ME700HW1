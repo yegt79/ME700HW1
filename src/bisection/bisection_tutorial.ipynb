{
 "cells": [
  {
   "cell_type": "markdown",
   "metadata": {},
   "source": [
    "# Bisection Method Examples\n",
    "This notebook demonstrates multiple examples of the bisection method for root-finding.\n",
    "Each example explores different types of functions and how to apply the bisection method to find their roots."
   ]
  },
  {
   "cell_type": "code",
   "execution_count": 1,
   "metadata": {},
   "outputs": [],
   "source": [
    "import numpy as np\n",
    "import bisection_functions as bf\n"
   ]
  },
  {
   "cell_type": "markdown",
   "metadata": {},
   "source": [
    "## Example 1: Root of \( x - 4 \)\n",
    "In this example, we are solving for the root of the linear equation \( x - 4 = 0 \)."
   ]
  },
  {
   "cell_type": "code",
   "execution_count": 2,
   "metadata": {},
   "outputs": [],
   "source": [
    "def f1(x):\n",
    "    return x - 4\n",
    "\n",
    "a, b = bf.sort_values(9, -3)\n",
    "threshold = 0.01\n",
    "iteration = 0\n",
    "\n",
    "while True:\n",
    "    iteration += 1\n",
    "    if iteration > 200:\n",
    "        print('Breaking the loop after 200 iterations')\n",
    "        break\n",
    "    \n",
    "    c = bf.calculate_mean(a, b)\n",
    "    fa, fb, fc = f1(a), f1(b), f1(c)\n",
    "    print(f'a = {a}, b = {b}, c = {c}, f(a) = {fa}, f(b) = {fb}, f(c) = {fc}')\n",
    "    \n",
    "    if abs(fc) < threshold:\n",
    "        print(f'Root found at c = {c} with f(c) = {fc}')\n",
    "        break\n",
    "    \n",
    "    flag = bf.check_sign(fc, fa)\n",
    "    a, b = bf.reassign_ab(flag, a, b, c)\n"
   ]
  },
  {
   "cell_type": "markdown",
   "metadata": {},
   "source": [
    "## Example 2: Root of \( x^3 + 8 \)\n",
    "In this example, we solve for the root of \( x^3 + 8 = 0 \), which is a cubic function."
   ]
  },
  {
   "cell_type": "code",
   "execution_count": 3,
   "metadata": {},
   "outputs": [],
   "source": [
    "def f1(x):\n",
    "    return x**3 + 8\n",
    "\n",
    "a, b = bf.sort_values(11, -10)\n",
    "iteration = 0\n",
    "\n",
    "while True:\n",
    "    iteration += 1\n",
    "    if iteration > 200:\n",
    "        print('Breaking the loop after 200 iterations')\n",
    "        break\n",
    "    \n",
    "    c = bf.calculate_mean(a, b)\n",
    "    fa, fb, fc = f1(a), f1(b), f1(c)\n",
    "    print(f'a = {a}, b = {b}, c = {c}, f(a) = {fa}, f(b) = {fb}, f(c) = {fc}')\n",
    "    \n",
    "    if abs(fc) < threshold:\n",
    "        print(f'Root found at c = {c} with f(c) = {fc}')\n",
    "        break\n",
    "    \n",
    "    flag = bf.check_sign(fc, fa)\n",
    "    a, b = bf.reassign_ab(flag, a, b, c)\n"
   ]
  },
  {
   "cell_type": "markdown",
   "metadata": {},
   "source": [
    "## Example 3: Root of \( 10 \cdot \log_{10}(x) \)\n",
    "This example solves for the root of \( 10 \cdot \log_{10}(x) = 0 \), a logarithmic function."
   ]
  },
  {
   "cell_type": "code",
   "execution_count": 4,
   "metadata": {},
   "outputs": [],
   "source": [
    "def f1(x):\n",
    "    return 10 * np.log10(x)\n",
    "\n",
    "a, b = bf.sort_values(0, 60)\n",
    "iteration = 0\n",
    "\n",
    "while True:\n",
    "    iteration += 1\n",
    "    if iteration > 200:\n",
    "        print('Breaking the loop after 200 iterations')\n",
    "        break\n",
    "    \n",
    "    c = bf.calculate_mean(a, b)\n",
    "    fa, fb, fc = f1(a), f1(b), f1(c)\n",
    "    print(f'a = {a}, b = {b}, c = {c}, f(a) = {fa}, f(b) = {fb}, f(c) = {fc}')\n",
    "    \n",
    "    if abs(fc) < threshold:\n",
    "        print(f'Root found at c = {c} with f(c) = {fc}')\n",
    "        break\n",
    "    \n",
    "    flag = bf.check_sign(fc, fa)\n",
    "    a, b = bf.reassign_ab(flag, a, b, c)\n"
   ]
  },
  {
   "cell_type": "markdown",
   "metadata": {},
   "source": [
    "## Example 4: Solving for \( \sigma - E(1 + \alpha e)e \)\n",
    "This example solves for the root of \( \sigma - E(1 + \alpha e)e = 0 \), a nonlinear equation for material behavior."
   ]
  },
  {
   "cell_type": "code",
   "execution_count": 5,
   "metadata": {},
   "outputs": [],
   "source": [
    "def f1(e):\n",
    "    return sigma - E * (1 + alpha * e) * e\n",
    "\n",
    "E = 2e11\n",
    "alpha = 0.01\n",
    "sigma = 50000\n",
    "a, b = bf.sort_values(7, 0)\n",
    "iteration = 0\n",
    "\n",
    "while True:\n",
    "    iteration += 1\n",
    "    if iteration > 200:\n",
    "        print('Breaking the loop after 200 iterations')\n",
    "        break\n",
    "    \n",
    "    c = bf.calculate_mean(a, b)\n",
    "    fa, fb, fc = f1(a), f1(b), f1(c)\n",
    "    print(f'a = {a}, b = {b}, c = {c}, f(a) = {fa}, f(b) = {fb}, f(c) = {fc}')\n",
    "    \n",
    "    if abs(fc) < threshold:\n",
    "        print(f'Root found at c = {c} with f(c) = {fc}')\n",
    "        break\n",
    "    \n",
    "    flag = bf.check_sign(fc, fa)\n",
    "    a, b = bf.reassign_ab(flag, a, b, c)\n"
   ]
  },
  {
   "cell_type": "markdown",
   "metadata": {},
   "source": [
    "## Example 5: Root of \( C - P v^n \)\n",
    "In this example, we solve for the root of the equation \( C - P v^n = 0 \), a power law equation."
   ]
  },
  {
   "cell_type": "code",
   "execution_count": 6,
   "metadata": {},
   "outputs": [],
   "source": [
    "def f1(v):\n",
    "    return C - P * v**n\n",
    "\n",
    "P = 50000\n",
    "C = 200000\n",
    "n = 1.4\n",
    "a, b = bf.sort_values(0, 5)\n",
    "iteration = 0\n",
    "\n",
    "while True:\n",
    "    iteration += 1\n",
    "    if iteration > 200:\n",
    "        print('Breaking the loop after 200 iterations')\n",
    "        break\n",
    "    \n",
    "    c = bf.calculate_mean(a, b)\n",
    "    fa, fb, fc = f1(a), f1(b), f1(c)\n",
    "    print(f'a = {a}, b = {b}, c = {c}, f(a) = {fa}, f(b) = {fb}, f(c) = {fc}')\n",
    "    \n",
    "    if abs(fc) < threshold:\n",
    "        print(f'Root found at c = {c} with f(c) = {fc}')\n",
    "        break\n",
    "    \n",
    "    flag = bf.check_sign(fc, fa)\n",
    "    a, b = bf.reassign_ab(flag, a, b, c)\n"
   ]
  }
 ]
}
