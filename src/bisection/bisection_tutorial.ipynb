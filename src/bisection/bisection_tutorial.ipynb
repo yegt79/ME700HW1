{
 "cells": [
  {
   "cell_type": "markdown",
   "metadata": {},
   "source": [
    "# Bisection Method Examples\n",
    "This notebook demonstrates the bisection method with multiple examples."
   ]
  },
  {
   "cell_type": "code",
   "execution_count": 1,
   "metadata": {},
   "outputs": [],
   "source": [
    "import numpy as np\n",
    "import bisection_functions as bf\n"
   ]
  },
  {
   "cell_type": "markdown",
   "metadata": {},
   "source": [
    "## Example 1: Root of `x - 4`\n",
    "This solves for the root of `x - 4 = 0`."
   ]
  },
  {
   "cell_type": "code",
   "execution_count": 2,
   "metadata": {},
   "outputs": [],
   "source": [
    "def f1(x): return x - 4\n",
    "a, b = bf.sort_values(9, -3)\n",
    "threshold = 0.01\n",
    "iteration = 0\n",
    "while True:\n",
    "    iteration += 1\n",
    "    if iteration > 200: break\n",
    "    c = bf.calculate_mean(a, b)\n",
    "    fa, fb, fc = f1(a), f1(b), f1(c)\n",
    "    if abs(fc) < threshold: break\n",
    "    flag = bf.check_sign(fc, fa)\n",
    "    a, b = bf.reassign_ab(flag, a, b, c)\n"
   ]
  },
  {
   "cell_type": "markdown",
   "metadata": {},
   "source": [
    "## Example 2: Root of `x^3 + 8`\n",
    "This solves for the root of `x^3 + 8 = 0`."
   ]
  },
  {
   "cell_type": "code",
   "execution_count": 3,
   "metadata": {},
   "outputs": [],
   "source": [
    "def f2(x): return x**3 + 8\n",
    "a, b = bf.sort_values(11, -10)\n",
    "iteration = 0\n",
    "while True:\n",
    "    iteration += 1\n",
    "    if iteration > 200: break\n",
    "    c = bf.calculate_mean(a, b)\n",
    "    fa, fb, fc = f2(a), f2(b), f2(c)\n",
    "    if abs(fc) < threshold: break\n",
    "    flag = bf.check_sign(fc, fa)\n",
    "    a, b = bf.reassign_ab(flag, a, b, c)\n"
   ]
  },
  {
   "cell_type": "markdown",
   "metadata": {},
   "source": [
    "## Example 3: Root of `10 * log10(x)`\n",
    "This solves for the root of `10 * log10(x) = 0`."
   ]
  },
  {
   "cell_type": "code",
   "execution_count": 4,
   "metadata": {},
   "outputs": [],
   "source": [
    "def f3(x): return 10 * np.log10(x)\n",
    "a, b = bf.sort_values(0, 60)\n",
    "iteration = 0\n",
    "while True:\n",
    "    iteration += 1\n",
    "    if iteration > 200: break\n",
    "    c = bf.calculate_mean(a, b)\n",
    "    fa, fb, fc = f3(a), f3(b), f3(c)\n",
    "    if abs(fc) < threshold: break\n",
    "    flag = bf.check_sign(fc, fa)\n",
    "    a, b = bf.reassign_ab(flag, a, b, c)\n"
   ]
  },
  {
   "cell_type": "markdown",
   "metadata": {},
   "source": [
    "## Example 4: Nonlinear Equation\n",
    "This solves for the root of `sigma - E * (1 + alpha * e) * e = 0`."
   ]
  },
  {
   "cell_type": "code",
   "execution_count": 5,
   "metadata": {},
   "outputs": [],
   "source": [
    "def f4(e): return sigma - E * (1 + alpha * e) * e\n",
    "E = 2e11\n",
    "alpha = 0.01\n",
    "sigma = 50000\n",
    "a, b = bf.sort_values(7, 0)\n",
    "iteration = 0\n",
    "while True:\n",
    "    iteration += 1\n",
    "    if iteration > 200: break\n",
    "    c = bf.calculate_mean(a, b)\n",
    "    fa, fb, fc = f4(a), f4(b), f4(c)\n",
    "    if abs(fc) < threshold: break\n",
    "    flag = bf.check_sign(fc, fa)\n",
    "    a, b = bf.reassign_ab(flag, a, b, c)\n"
   ]
  },
  {
   "cell_type": "markdown",
   "metadata": {},
   "source": [
    "## Example 5: Root of `C - P * v^n`\n",
    "This solves for the root of `C - P * v^n = 0`."
   ]
  },
  {
   "cell_type": "code",
   "execution_count": 6,
   "metadata": {},
   "outputs": [],
   "source": [
    "def f5(v): return C - P * v**n\n",
    "P = 50000\n",
    "C = 200000\n",
    "n = 1.4\n",
    "a, b = bf.sort_values(0, 5)\n",
    "iteration = 0\n",
    "while True:\n",
    "    iteration += 1\n",
    "    if iteration > 200: break\n",
    "    c = bf.calculate_mean(a, b)\n",
    "    fa, fb, fc = f5(a), f5(b), f5(c)\n",
    "    if abs(fc) < threshold: break\n",
    "    flag = bf.check_sign(fc, fa)\n",
    "    a, b = bf.reassign_ab(flag, a, b, c)\n"
   ]
  }
 ]
}
