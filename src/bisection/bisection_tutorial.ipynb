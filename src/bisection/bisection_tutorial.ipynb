{
 "cells": [
  {
   "cell_type": "markdown",
   "metadata": {},
   "source": [
    "# Bisection Method Examples\n",
    "\n",
    "This notebook demonstrates the use of the bisection method to find roots of several functions. The following examples are included:\n",
    "- Example 1: Root of $x - 4$\n",
    "- Example 2: Root of $x^3 + 8$\n",
    "- Example 3: Root of $10 \\cdot \\log_{10}(x)$\n",
    "- Example 4: Root of nonlinear equation involving strain\n",
    "- Example 5: Root of a power-law equation\n"
   ]
  },
  {
   "cell_type": "code",
   "execution_count": 1,
   "metadata": {},
   "outputs": [],
   "source": [
    "import numpy as np\n",
    "import bisection_functions as bf\n"
   ]
  },
  {
   "cell_type": "markdown",
   "metadata": {},
   "source": [
    "## Example 1 - Solving for the root of $x - 4$\n",
    "\n",
    "In this example, we are solving for the root of the simple linear equation $x - 4 = 0$. This equation has a root at $x = 4$. We will use the bisection method to find this root, starting with the interval [$a, b$] and iteratively narrowing it down until we converge to the root within a specified threshold.\n"
   ]
  },
  {
   "cell_type": "code",
   "execution_count": 2,
   "metadata": {},
   "outputs": [],
   "source": [
    "def f1(x):\n",
    "    return x - 4\n",
    "\n",
    "a, b = bf.sort_values(9, -3)\n",
    "threshold = 0.01\n",
    "iteration = 0\n",
    "\n",
    "while True:\n",
    "    iteration += 1\n",
    "    if iteration > 200:\n",
    "        print('Breaking the loop after 200 iterations')\n",
    "        break\n",
    "    \n",
    "    c = bf.calculate_mean(a, b)\n",
    "    fa, fb, fc = f1(a), f1(b), f1(c)\n",
    "    print(f'a = {a}, b = {b}, c = {c}, f(a) = {fa}, f(b) = {fb}, f(c) = {fc}')\n",
    "    \n",
    "    if abs(fc) < threshold:\n",
    "        print(f'Root found at c = {c} with f(c) = {fc}')\n",
    "        break\n",
    "    \n",
    "    flag = bf.check_sign(fc, fa)\n",
    "    a, b = bf.reassign_ab(flag, a, b, c)"
   ]
  },
  {
   "cell_type": "markdown",
   "metadata": {},
   "source": [
    "## Example 2 - Solving for the root of $x^3 + 8$\n",
    "\n",
    "In this example, we are solving for the root of the cubic equation $x^3 + 8 = 0$. This equation has a root at $x = -2$. As with the previous example, we will use the bisection method to find this root within the specified threshold.\n"
   ]
  },
  {
   "cell_type": "code",
   "execution_count": 3,
   "metadata": {},
   "outputs": [],
   "source": [
    "def f1(x):\n",
    "    return x**3 + 8\n",
    "\n",
    "a, b = bf.sort_values(11, -10)\n",
    "iteration = 0\n",
    "\n",
    "while True:\n",
    "    iteration += 1\n",
    "    if iteration > 200:\n",
    "        print('Breaking the loop after 200 iterations')\n",
    "        break\n",
    "    \n",
    "    c = bf.calculate_mean(a, b)\n",
    "    fa, fb, fc = f1(a), f1(b), f1(c)\n",
    "    print(f'a = {a}, b = {b}, c = {c}, f(a) = {fa}, f(b) = {fb}, f(c) = {fc}')\n",
    "    \n",
    "    if abs(fc) < threshold:\n",
    "        print(f'Root found at c = {c} with f(c) = {fc}')\n",
    "        break\n",
    "    \n",
    "    flag = bf.check_sign(fc, fa)\n",
    "    a, b = bf.reassign_ab(flag, a, b, c)"
   ]
  },
  {
   "cell_type": "markdown",
   "metadata": {},
   "source": [
    "## Example 3 - Solving for the root of $10 \\cdot \\log_{10}(x)$\n",
    "\n",
    "Here, we solve for the root of the equation $10 \\cdot \\log_{10}(x) = 0$, which corresponds to $x = 1$. This is a logarithmic equation, and the bisection method will help us find the root.\n"
   ]
  },
  {
   "cell_type": "code",
   "execution_count": 4,
   "metadata": {},
   "outputs": [],
   "source": [
    "def f1(x):\n",
    "    return 10 * np.log10(x)\n",
    "\n",
    "a, b = bf.sort_values(0, 60)\n",
    "iteration = 0\n",
    "\n",
    "while True:\n",
    "    iteration += 1\n",
    "    if iteration > 200:\n",
    "        print('Breaking the loop after 200 iterations')\n",
    "        break\n",
    "    \n",
    "    c = bf.calculate_mean(a, b)\n",
    "    fa, fb, fc = f1(a), f1(b), f1(c)\n",
    "    print(f'a = {a}, b = {b}, c = {c}, f(a) = {fa}, f(b) = {fb}, f(c) = {fc}')\n",
    "    \n",
    "    if abs(fc) < threshold:\n",
    "        print(f'Root found at c = {c} with f(c) = {fc}')\n",
    "        break\n",
    "    \n",
    "    flag = bf.check_sign(fc, fa)\n",
    "    a, b = bf.reassign_ab(flag, a, b, c)"
   ]
  },
  {
   "cell_type": "markdown",
   "metadata": {},
   "source": [
    "## Example 4 - Solving for the root of a nonlinear equation involving strain\n",
    "\n",
    "In this example, we are solving a more complex nonlinear equation that involves the strain $e$, Young's modulus $E$, and other material properties. The bisection method is applied to find the root of the equation: $\\sigma - E (1 + \\alpha e) e$.\n"
   ]
  },
  {
   "cell_type": "code",
   "execution_count": 5,
   "metadata": {},
   "outputs": [],
   "source": [
    "def f1(e):\n",
    "    return sigma - E * (1 + alpha * e) * e\n",
    "\n",
    "E = 2e11\n",
    "alpha = 0.01\n",
    "sigma = 50000\n",
    "a, b = bf.sort_values(7, 0)\n",
    "iteration = 0\n",
    "\n",
    "while True:\n",
    "    iteration += 1\n",
    "    if iteration > 200:\n",
    "        print('Breaking the loop after 200 iterations')\n",
    "        break\n",
    "    \n",
    "    c = bf.calculate_mean(a, b)\n",
    "    fa, fb, fc = f1(a), f1(b), f1(c)\n",
    "    print(f'a = {a}, b = {b}, c = {c}, f(a) = {fa}, f(b) = {fb}, f(c) = {fc}')\n",
    "    \n",
    "    if abs(fc) < threshold:\n",
    "        print(f'Root found at c = {c} with f(c) = {fc}')\n",
    "        break\n",
    "    \n",
    "    flag = bf.check_sign(fc, fa)\n",
    "    a, b = bf.reassign_ab(flag, a, b, c)"
   ]
  },
  {
   "cell_type": "markdown",
   "metadata": {},
   "source": [
    "## Example 5 - Solving for the root of a power-law equation\n",
    "\n",
    "In this example, we are solving a power-law equation: $C - P v^n = 0$. The bisection method will help find the value of $v$ that satisfies this equation, where $C$, $P$, and $n$ are constants.\n"
   ]
  },
  {
   "cell_type": "code",
   "execution_count": 6,
   "metadata": {},
   "outputs": [],
   "source": [
    "def f1(v):\n",
    "    return C - P * v**n\n",
    "\n",
    "P = 50000\n",
    "C = 200000\n",
    "n = 1.4\n",
    "a, b = bf.sort_values(0, 5)\n",
    "iteration = 0\n",
    "\n",
    "while True:\n",
    "    iteration += 1\n",
    "    if iteration > 200:\n",
    "        print('Breaking the loop after 200 iterations')\n",
    "        break\n",
    "    \n",
    "    c = bf.calculate_mean(a, b)\n",
    "    fa, fb, fc = f1(a), f1(b), f1(c)\n",
    "    print(f'a = {a}, b = {b}, c = {c}, f(a) = {fa}, f(b) = {fb}, f(c) = {fc}')\n",
    "    \n",
    "    if abs(fc) < threshold:\n",
    "    if abs(fc) < threshold:\n",
    "        print(f'Root found at c = {c} with f(c) = {fc}')\n",
    "        break\n",
    "    \n",
    "    flag = bf.check_sign(fc, fa)\n",
    "    a, b = bf.reassign_ab(flag, a, b, c)\n",
    "\n",
    "print('End of Example 5')"
   ]
  }
 ]
}

