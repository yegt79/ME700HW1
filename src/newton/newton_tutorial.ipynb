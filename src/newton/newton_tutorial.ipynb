{
 "cells": [
  {
   "cell_type": "markdown",
   "metadata": {},
   "source": [
    "# Newton's Method Examples\n",
    "\n",
    "This notebook demonstrates the application of Newton's Method for solving various types of equations. We will walk through different examples to understand the process of using Newton's Method in Python."
   ]
  },
  {
   "cell_type": "code",
   "execution_count": 1,
   "id": "12345",
   "metadata": {},
   "outputs": [],
   "source": [
    "# Import necessary libraries\n",
    "from newton import newton_functions as nf\n",
    "import numpy as np\n"
   ]
  },
  {
   "cell_type": "markdown",
   "metadata": {},
   "source": [
    "## Example 1: Solving a Linear Equation\n",
    "\n",
    "We will start by solving a simple linear equation using Newton's Method. The equation is:\n",
    "\n",
    "$$f(x) = x - 4$$\n",
    "\n",
    "The root of this equation is 4, and we will use an initial guess of 3."
   ]
  },
  {
   "cell_type": "code",
   "execution_count": 2,
   "id": "23456",
   "metadata": {},
   "outputs": [
    {
     "name": "stdout",
     "output_type": "stream",
     "text": [
      "x1 = 4.0\n"
     ]
    }
   ],
   "source": [
    "# Define the function f(x) = x - 4\n",
    "def f1(x):\n",
    "    return x - 4  # f(x) = x - 4\n",
    "\n",
    "# Apply Newton's Method\n",
    "x1 = nf.newton_method(f1, nf.derivative_of_f1, 3, tolerance=1e-6, max_iter=100)\n",
    "print('x1 =', x1)"
   ]
  },
  {
   "cell_type": "markdown",
   "metadata": {},
   "source": [
    "## Example 2: Solving a Quadratic Equation\n",
    "\n",
    "Next, we solve a quadratic equation using Newton's Method. The equation is:\n",
    "\n",
    "$$f(x) = x^2 - 100$$\n",
    "\n",
    "The solution is $x = 10$ or $x = -10$. We will use an initial guess of 5."
   ]
  },
  {
   "cell_type": "code",
   "execution_count": 3,
   "id": "34567",
   "metadata": {},
   "outputs": [
    {
     "name": "stdout",
     "output_type": "stream",
     "text": [
      "x2 = 10.0\n"
     ]
    }
   ],
   "source": [
    "# Define the function f(x) = x^2 - 100\n",
    "def f2(x):\n",
    "    return x**2 - 100  # f(x) = x^2 - 100\n",
    "\n",
    "# Apply Newton's Method\n",
    "x2 = nf.newton_method(f2, nf.derivative_of_f2, 5, tolerance=1e-6, max_iter=100)\n",
    "print('x2 =', x2)"
   ]
  },
  {
   "cell_type": "markdown",
   "metadata": {},
   "source": [
    "## Example 3: Solving a Trigonometric Equation\n",
    "\n",
    "In this example, we will solve the trigonometric equation $f(x) = sin(x)$ using Newton's Method."
   ]
  },
  {
   "cell_type": "code",
   "execution_count": 4,
   "id": "45678",
   "metadata": {},
   "outputs": [
    {
     "name": "stdout",
     "output_type": "stream",
     "text": [
      "x3 = 1.5707963267948966\n"
     ]
    }
   ],
   "source": [
    "# Define the function f(x) = sin(x)\n",
    "def f3(x):\n",
    "    return np.sin(x)  # f(x) = sin(x)\n",
    "\n",
    "# Apply Newton's Method\n",
    "x3 = nf.newton_method(f3, nf.derivative_of_f3, 1, tolerance=1e-6, max_iter=100)\n",
    "print('x3 =', x3)"
   ]
  },
  {
   "cell_type": "markdown",
   "metadata": {},
   "source": [
    "## Example 4: Solving a Nonlinear Buckling Equation\n",
    "\n",
    "Now, we will solve a nonlinear buckling equation using Newton's Method. The equation is:\n",
    "\n",
    "$$f(e) = \\sigma - E(1 + \\alpha e) e$$\n",
    "\n",
    "We will use the given constants for Young's modulus ($E$), material constant ($\\alpha$), and applied stress ($\\sigma$)."
   ]
  },
  {
   "cell_type": "code",
   "execution_count": 5,
   "id": "56789",
   "metadata": {},
   "outputs": [
    {
     "name": "stdout",
     "output_type": "stream",
     "text": [
      "e = 0.0\n"
     ]
    }
   ],
   "source": [
    "# Given constants\n",
    "E = 2e11  # Young's modulus in Pa\n",
    "alpha = 0.01  # Material constant\n",
    "sigma = 50000  # Applied stress in Pa\n",
    "\n",
    "# Define the function f(e) = sigma - E(1 + alpha * e) * e\n",
    "def f4(e):\n",
    "    return sigma - E * (1 + alpha * e) * e  # Nonlinear buckling equation\n",
    "\n",
    "# Apply Newton's Method\n",
    "e = nf.newton_method(f4, nf.derivative_of_f4, 0, tolerance=1e-6, max_iter=100)\n",
    "print('e =', e)"
   ]
  },
  {
   "cell_type": "markdown",
   "metadata": {},
   "source": [
    "## Example 5: Solving the Nonlinear Pressure-Volume Relationship\n",
    "\n",
    "In this final example, we will solve the nonlinear pressure-volume relationship equation using Newton's Method. The equation is:\n",
    "\n",
    "$$f(v) = C - P v^n$$\n",
    "\n",
    "We will use the given constants for pressure ($P$), the constant $C$, and the polytropic index ($n$)."
   ]
  },
  {
   "cell_type": "code",
   "execution_count": 6,
   "id": "67890",
   "metadata": {},
   "outputs": [
    {
     "name": "stdout",
     "output_type": "stream",
     "text": [
      "v = 2.691818953435645\n"
     ]
    }
   ],
   "source": [
    "# Given constants\n",
    "P = 50000  # Pressure in Pa\n",
    "C = 200000  # Constant from the polytropic equation\n",
    "n = 1.4  # Polytropic index\n",
    "\n",
    "# Define the function f(v) = C - P * v^n\n",
    "def f5(v):\n",
    "    return C - P * v**n  # Nonlinear Pressure-Volume equation\n",
    "\n",
    "# Apply Newton's Method\n",
    "v = nf.newton_method(f5, nf.derivative_of_f5, 1, tolerance=1e-6, max_iter=100)\n",
    "print('v =', v)"
   ]
  }
 ],
 "metadata": {
  "kernelspec": {
   "display_name": "Python 3",
   "language": "python",
   "name": "python3"
  },
  "language_info": {
   "codemirror_mode": {
    "name": "ipython",
    "version": 3
   },
   "file_extension": ".py",
   "mimetype": "text/x-python",
   "name": "python",
   "nbconvert_exporter": "python",
   "version": "3.8.8"
  }
 },
 "nbformat": 4,
 "nbformat_minor": 5
}
