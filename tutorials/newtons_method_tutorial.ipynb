{
 "cells": [
  {
   "cell_type": "markdown",
   "metadata": {},
   "source": [
    "# Newton's Method Tutorial\n",
    "This tutorial demonstrates **Newton's Method** for solving non-linear equations. It's an iterative technique for finding roots of functions, starting with an initial guess and refining it through iterations.\n",
    "---\n",
    "### Importing Libraries\n",
    "We'll import `newton_functions` from the `newton` module.\n",
    "```python\n",
    "import sys\n",
    "sys.path.append('../src')  # Add src to path\n",
    "from newton import newton_functions as nf\n",
    "import numpy as np\n",
    "```"
   ]
  },
  {
   "cell_type": "code",
   "execution_count": 1,
   "metadata": {},
   "outputs": [],
   "source": [
    "import sys\n",
    "sys.path.append('../src')  # Add src to path\n",
    "from newton import newton_functions as nf\n",
    "import numpy as np\n"
   ]
  },
  {
   "cell_type": "markdown",
   "metadata": {},
   "source": [
    "---\n",
    "### Example 1: Solving a Linear Equation\n",
    "We solve $f(x) = x - 4$ with $x_0 = 3$.\n",
    "```python\n",
    "def f(x):\n",
    "    return x - 4\n",
    "x0 = 3\n",
    "x = nf.newton_method(f, nf.derivative_of_f, x0)\n",
    "print('x =', x)\n",
    "```"
   ]
  },
  {
   "cell_type": "code",
   "execution_count": 2,
   "metadata": {},
   "outputs": [
    {
     "data": {
      "text/plain": [
       "x = 4.0"
      ]
     },
     "execution_count": 2,
     "metadata": {},
     "output_type": "stream"
    }
   ],
   "source": [
    "def f(x):\n",
    "    return x - 4\n",
    "x0 = 3\n",
    "x = nf.newton_method(f, nf.derivative_of_f, x0)\n",
    "print('x =', x)\n"
   ]
  },
  {
   "cell_type": "markdown",
   "metadata": {},
   "source": [
    "---\n",
    "### Example 2: Solving a Quadratic Equation\n",
    "We solve $f(x) = x^2 - 100$ with $x_0 = 5$.\n",
    "```python\n",
    "def f(x):\n",
    "    return x**2 - 100\n",
    "x0 = 5\n",
    "x = nf.newton_method(f, nf.derivative_of_f, x0)\n",
    "print('x =', x)\n",
    "```"
   ]
  },
  {
   "cell_type": "code",
   "execution_count": 3,
   "metadata": {},
   "outputs": [
    {
     "data": {
      "text/plain": [
       "x = 10.0"
      ]
     },
     "execution_count": 3,
     "metadata": {},
     "output_type": "stream"
    }
   ],
   "source": [
    "def f(x):\n",
    "    return x**2 - 100\n",
    "x0 = 5\n",
    "x = nf.newton_method(f, nf.derivative_of_f, x0)\n",
    "print('x =', x)\n"
   ]
  },
  {
   "cell_type": "markdown",
   "metadata": {},
   "source": [
    "---\n",
    "### Example 3: Solving a Trigonometric Equation\n",
    "We solve $f(x) = \sin(x)$ with $x_0 = 1$.\n",
    "```python\n",
    "def f(x):\n",
    "    return np.sin(x)\n",
    "x0 = 1\n",
    "x = nf.newton_method(f, nf.derivative_of_f, x0)\n",
    "print('x =', x)\n",
    "```"
   ]
  },
  {
   "cell_type": "code",
   "execution_count": 4,
   "metadata": {},
   "outputs": [
    {
     "data": {
      "text/plain": [
       "x = 1.2246467991473532e-16"
      ]
     },
     "execution_count": 4,
     "metadata": {},
     "output_type": "stream"
    }
   ],
   "source": [
    "def f(x):\n",
    "    return np.sin(x)\n",
    "x0 = 1\n",
    "x = nf.newton_method(f, nf.derivative_of_f, x0)\n",
    "print('x =', x)\n"
   ]
  },
  {
   "cell_type": "markdown",
   "metadata": {},
   "source": [
    "---\n",
    "### Example 4: Nonlinear Buckling Equation\n",
    "Solve the nonlinear buckling equation: $f(e) = \\sigma - E(1 + \\alpha e)e$ with $e_0 = 0$.\n",
    "```python\n",
    "def f(e):\n",
    "    return sigma - E * (1 + alpha * e) * e\n",
    "E = 2e11\n",
    "alpha = 0.01\n",
    "sigma = 50000\n",
    "e0 = 0\n",
    "e = nf.newton_method(f, nf.derivative_of_f, e0)\n",
    "print('e =', e)\n",
    "```"
   ]
  },
  {
   "cell_type": "code",
   "execution_count": 5,
   "metadata": {},
   "outputs": [
    {
     "data": {
      "text/plain": [
       "e = 0.0"
      ]
     },
     "execution_count": 5,
     "metadata": {},
     "output_type": "stream"
    }
   ],
   "source": [
    "def f(e):\n",
    "    return sigma - E * (1 + alpha * e) * e\n",
    "E = 2e11\n",
    "alpha = 0.01\n",
    "sigma = 50000\n",
    "e0 = 0\n",
    "e = nf.newton_method(f, nf.derivative_of_f, e0)\n",
    "print('e =', e)\n"
   ]
  },
  {
   "cell_type": "markdown",
   "metadata": {},
   "source": [
    "---\n",
    "### Summary\n",
    "This tutorial demonstrated using Newton's Method to solve various nonlinear equations, from simple algebraic to more complex physical equations. The method iteratively refines the solution from an initial guess."
   ]
  }
 ],
 "metadata": {
  "kernelspec": {
   "display_name": "Python 3",
   "language": "python",
   "name": "python3"
  },
  "language_info": {
   "codemirror_mode": {
    "name": "ipython",
    "version": 3
   },
   "file_extension": ".py",
   "mimetype": "text/x-python",
   "name": "python",
   "nbconvert_exporter": "python",
   "version": "3.8.10"
  }
 },
 "nbformat": 4,
 "nbformat_minor": 5
}
