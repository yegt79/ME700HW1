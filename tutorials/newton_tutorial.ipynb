{
 "cells": [
  {
   "cell_type": "markdown",
   "metadata": {},
   "source": [
    "# Newton's Method Tutorial\n",
    "\n",
    "In this tutorial, we will explore **Newton's Method** for solving non-linear equations. We'll demonstrate how to use the method with a variety of functions. Newton's Method is an iterative technique for finding roots of real-valued functions. It starts with an initial guess and refines it through iterations until convergence.\n",
    "\n",
    "---\n",
    "\n",
    "### Importing Necessary Libraries\n",
    "\n",
    "We begin by importing the necessary functions. We'll use `newton_functions` from the `newton` module for our calculations.\n",
    "\n",
    "```python\n",
    "from newton import newton_functions as nf\n",
    "import numpy as np\n",
    "```\n",
    "\n",
    "---"
   ]
  },
  {
   "cell_type": "code",
   "execution_count": 1,
   "id": "fe9c55a5",
   "metadata": {},
   "outputs": [],
   "source": [
    "from newton import newton_functions as nf\n",
    "import numpy as np\n"
   ]
  },
  {
   "cell_type": "markdown",
   "metadata": {},
   "source": [
    "---\n",
    "\n",
    "### Example 1: Solving a Simple Linear Equation\n",
    "\n",
    "We will start with a simple linear function:\n",
    "\n",
    "$$\nf(x) = x - 4\n$$\n",
    "\n",
    "The root of this equation is $x = 4$, but we will use Newton's Method to find it starting with an initial guess of $x_0 = 3$.\n",
    "\n",
    "```python\n",
    "# Define a sample function f(x) - Example 1\n",
    "def f(x):\n",
    "    return x - 4  # f(x) = x - 4\n",
    "\n",
    "# Initial guess x0\n",
    "x0 = 3\n",
    "\n",
    "# Implement Newton Method\n",
    "x = nf.newton_method(f, nf.derivative_of_f, x0, tolerance=1e-6, max_iter=100)\n",
    "print('x =', x)\n",
    "```\n",
    "\n",
    "---"
   ]
  },
  {
   "cell_type": "code",
   "execution_count": 2,
   "id": "7d6ff504",
   "metadata": {},
   "outputs": [
    {
     "data": {
      "text/plain": [
       "x = 4.0"
      ]
     },
     "execution_count": 2,
     "metadata": {},
     "output_type": "stream"
    }
   ],
   "source": [
    "# Define a sample function f(x) - Example 1\n",
    "def f(x):\n",
    "    return x - 4  # f(x) = x - 4\n",
    "\n",
    "# Initial guess x0\n",
    "x0 = 3\n",
    "\n",
    "# Implement Newton Method\n",
    "x = nf.newton_method(f, nf.derivative_of_f, x0, tolerance=1e-6, max_iter=100)\n",
    "print('x =', x)\n"
   ]
  },
  {
   "cell_type": "markdown",
   "metadata": {},
   "source": [
    "---\n",
    "\n",
    "### Example 2: Solving a Quadratic Equation\n",
    "\n",
    "Now, let's solve a quadratic equation:\n",
    "\n",
    "$$\nf(x) = x^2 - 100\n$$\n",
    "\n",
    "The root of this equation is $x = 10$ or $x = -10$. We start with an initial guess of $x_0 = 5$.\n",
    "\n",
    "```python\n",
    "# Define a sample function f(x) - Example 2\n",
    "def f(x):\n",
    "    return x**2 - 100  # f(x) = x^2 - 100\n",
    "\n",
    "# Initial guess x0\n",
    "x0 = 5\n",
    "\n",
    "# Implement Newton Method\n",
    "x = nf.newton_method(f, nf.derivative_of_f, x0, tolerance=1e-6, max_iter=100)\n",
    "print('x =', x)\n",
    "```\n",
    "\n",
    "---"
   ]
  },
  {
   "cell_type": "code",
   "execution_count": 3,
   "id": "adf38087",
   "metadata": {},
   "outputs": [
    {
     "data": {
      "text/plain": [
       "x = 10.0"
      ]
     },
     "execution_count": 3,
     "metadata": {},
     "output_type": "stream"
    }
   ],
   "source": [
    "# Define a sample function f(x) - Example 2\n",
    "def f(x):\n",
    "    return x**2 - 100  # f(x) = x^2 - 100\n",
    "\n",
    "# Initial guess x0\n",
    "x0 = 5\n",
    "\n",
    "# Implement Newton Method\n",
    "x = nf.newton_method(f, nf.derivative_of_f, x0, tolerance=1e-6, max_iter=100)\n",
    "print('x =', x)\n"
   ]
  },
  {
   "cell_type": "markdown",
   "metadata": {},
   "source": [
    "---\n",
    "\n",
    "### Example 3: Solving a Trigonometric Equation\n",
    "\n",
    "Next, we'll solve the equation:\n",
    "\n",
    "$$\nf(x) = \sin(x)\n$$\n",
    "\n",
    "We start with an initial guess of $x_0 = 1$, and the root of this equation is $x = 0$.\n",
    "\n",
    "```python\n",
    "# Define a sample function f(x) - Example 3\n",
    "def f(x):\n",
    "    return np.sin(x)  # f(x) = sin(x)\n",
    "\n",
    "# Initial guess x0\n",
    "x0 = 1\n",
    "\n",
    "# Implement Newton Method\n",
    "x = nf.newton_method(f, nf.derivative_of_f, x0, tolerance=1e-6, max_iter=100)\n",
    "print('x =', x)\n",
    "```\n",
    "\n",
    "---"
   ]
  },
  {
   "cell_type": "code",
   "execution_count": 4,
   "id": "5765e80b",
   "metadata": {},
   "outputs": [
    {
     "data": {
      "text/plain": [
       "x = 1.2246467991473532e-16"
      ]
     },
     "execution_count": 4,
     "metadata": {},
     "output_type": "stream"
    }
   ],
   "source": [
    "# Define a sample function f(x) - Example 3\n",
    "def f(x):\n",
    "    return np.sin(x)  # f(x) = sin(x)\n",
    "\n",
    "# Initial guess x0\n",
    "x0 = 1\n",
    "\n",
    "# Implement Newton Method\n",
    "x = nf.newton_method(f, nf.derivative_of_f, x0, tolerance=1e-6, max_iter=100)\n",
    "print('x =', x)\n"
   ]
  },
  {
   "cell_type": "markdown",
   "metadata": {},
   "source": [
    "---\n",
    "\n",
    "### Example 4: Solving a Nonlinear Buckling Equation\n",
    "\n",
    "Now let's tackle a more complex equation, often used in materials science for **nonlinear buckling**:\n",
    "\n",
    "$$\nf(e) = \\sigma - E \\cdot (1 + \\alpha \\cdot e) \\cdot e\n$$\n",
    "\n",
    "Where:\n",
    "- $\\sigma = 50000$ (stress),\n",
    "- $E = 2 \\times 10^{11}$ (Young's Modulus),\n",
    "- $\\alpha = 0.01$ (material constant),\n",
    "- The root of this equation represents the strain $e$.\n",
    "\n",
    "We will start with an initial guess of $e_0 = 0$.\n",
    "\n",
    "```python\n",
    "# Define a sample function f(e) - Example 4\n",
    "def f(e):\n",
    "    return sigma - E * (1 + alpha * e) * e  # Nonlinear buckling equation\n",
    "\n",
    "# Given constants\n",
    "E = 2e11  # Young's modulus in Pa\n",
    "alpha = 0.01  # Material constant\n",
    "sigma = 50000  # Applied stress in Pa\n",
    "\n",
    "# Initial guess e0\n",
    "e0 = 0\n",
    "\n",
    "# Implement Newton Method\n",
    "e = nf.newton_method(f, nf.derivative_of_f, e0, tolerance=1e-6, max_iter=100)\n",
    "print('e =', e)\n",
    "```\n",
    "\n",
    "---"
   ]
  },
  {
   "cell_type": "code",
   "execution_count": 5,
   "id": "d378b810",
   "metadata": {},
   "outputs": [
    {
     "data": {
      "text/plain": [
       "e = 4.508180132028645e-10"
      ]
     },
     "execution_count": 5,
     "metadata": {},
     "output_type": "stream"
    }
   ],
   "source": [
    "# Define a sample function f(e) - Example 4\n",
    "def f(e):\n",
    "    return sigma - E * (1 + alpha * e) * e  # Nonlinear buckling equation\n",
    "\n",
    "# Given constants\n",
    "E = 2e11  # Young's modulus in Pa\n",
    "alpha = 0.01  # Material constant\n",
    "sigma = 50000  # Applied stress in Pa\n",
    "\n",
    "# Initial guess e0\n",
    "e0 = 0\n",
    "\n",
    "# Implement Newton Method\n",
    "e = nf.newton_method(f, nf.derivative_of_f, e0, tolerance=1e-6, max_iter=100)\n",
    "print('e =', e)\n"
   ]
  },
  {
   "cell_type": "markdown",
   "metadata": {},
   "source": [
    "---\n",
    "\n",
    "### Example 5: Solving a Nonlinear Pressure-Volume Relationship\n",
    "\n",
    "Finally, let's solve a **nonlinear pressure-volume relationship** in thermodynamics. The equation is:\n",
    "\n",
    "$$\nf(v) = C - P \\cdot v^n\n$$\n",
    "\n",
    "Where:\n",
    "- $P = 50000$ (pressure),\n",
    "- $C = 200000$ (constant),\n",
    "- $n = 1.4$ (polytropic index),\n",
    "- The root of this equation represents the volume $v$.\n",
    "\n",
    "We start with an initial guess of $v_0 = 1$.\n",
    "\n",
    "```python\n",
    "# Define a sample function f(v) - Example 5\n",
    "def f(v):\n",
    "    return C - P * v**n  # Nonlinear Pressure-Volume Relationship\n",
    "\n",
    "# Given constants\n",
    "P = 50000    # Given pressure (Pa)\n",
    "C = 200000   # Constant from the polytropic equation\n",
    "n = 1.4      # Polytropic index\n",
    "\n",
    "# Initial guess v0\n",
    "v0 = 1\n",
    "\n",
    "# Implement Newton Method\n",
    "v = nf.newton_method(f, nf.derivative_of_f, v0, tolerance=1e-6, max_iter=100)\n",
    "print('v =', v)\n",
    "```\n",
    "\n",
    "---"
   ]
  },
  {
   "cell_type": "code",
   "execution_count": 6,
   "id": "65a22e0a",
   "metadata": {},
   "outputs": [
    {
     "data": {
      "text/plain": [
       "v = 1.0779440169305203"
      ]
     },
     "execution_count": 6,
     "metadata": {},
     "output_type": "stream"
    }
   ],
   "source": [
    "# Define a sample function f(v) - Example 5\n",
    "def f(v):\n",
    "    return C - P * v**n  # Nonlinear Pressure-Volume Relationship\n",
    "\n",
    "# Given constants\n",
    "P = 50000    # Given pressure (Pa)\n",
    "C = 200000   # Constant from the polytropic equation\n",
    "n = 1.4      # Polytropic index\n",
    "\n",
    "# Initial guess v0\n",
    "v0 = 1\n",
    "\n",
    "# Implement Newton Method\n",
    "v = nf.newton_method(f, nf.derivative_of_f, v0, tolerance=1e-6, max_iter=100)\n",
    "print('v =', v)\n"
   ]
  },
  {
   "cell_type": "markdown",
   "metadata": {},
   "source": [
    "---\n",
    "\n",
    "### Summary\n",
    "\n",
    "In this tutorial, we used Newton's Method to solve several types of nonlinear equations, including simple algebraic, trigonometric, and more complex material science and thermodynamics problems. The method iteratively converges to the solution starting from an initial guess, demonstrating its power and versatility for solving a wide range of problems."
   ]
  }
 ],
 "metadata": {
  "kernelspec": {
   "display_name": "Python 3",
   "language": "python",
   "name": "python3"
  },
  "language_info": {
   "codemirror_mode": {
    "name": "ipython",
    "version": 3
   },
   "file_extension": ".py",
   "mimetype": "text/x-python",
   "name": "python",
   "nbconvert_exporter": "python",
   "version": "3.8.10"
  }
 },
 "nbformat": 4,
 "nbformat_minor": 5
}
