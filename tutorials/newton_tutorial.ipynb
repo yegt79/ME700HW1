{
 "cells": [
  {
   "cell_type": "markdown",
   "source": [
    "# Newton's Method Tutorial\n",
    "This tutorial demonstrates **Newton's Method** to solve non-linear equations using Python. The method iterates from an initial guess to find the root of a function.\n",
    "### Importing Libraries\n",
    "```python\n",
    "from newton import newton_functions as nf\n",
    "import numpy as np\n",
    "```\n"
   ]
  },
  {
   "cell_type": "code",
   "source": [
    "from newton import newton_functions as nf\n",
    "import numpy as np\n"
   ]
  },
  {
   "cell_type": "markdown",
   "source": [
    "### Example 1: Linear Equation\n",
    "Solve $f(x) = x - 4$ starting from $x_0 = 3$.\n",
    "```python\n",
    "def f(x):\n",
    "    return x - 4\n",
    "x0 = 3\n",
    "x = nf.newton_method(f, nf.derivative_of_f, x0)\n",
    "print(x)\n",
    "```\n"
   ]
  },
  {
   "cell_type": "code",
   "source": [
    "def f(x):\n",
    "    return x - 4\n",
    "x0 = 3\n",
    "x = nf.newton_method(f, nf.derivative_of_f, x0)\n",
    "print(x)\n"
   ]
  },
  {
   "cell_type": "markdown",
   "source": [
    "### Example 2: Quadratic Equation\n",
    "Solve $f(x) = x^2 - 100$ starting from $x_0 = 5$.\n",
    "```python\n",
    "def f(x):\n",
    "    return x**2 - 100\n",
    "x0 = 5\n",
    "x = nf.newton_method(f, nf.derivative_of_f, x0)\n",
    "print(x)\n",
    "```\n"
   ]
  },
  {
   "cell_type": "code",
   "source": [
    "def f(x):\n",
    "    return x**2 - 100\n",
    "x0 = 5\n",
    "x = nf.newton_method(f, nf.derivative_of_f, x0)\n",
    "print(x)\n"
   ]
  },
  {
   "cell_type": "markdown",
   "source": [
    "### Example 3: Trigonometric Equation\n",
    "Solve $f(x) = \sin(x)$ starting from $x_0 = 1$.\n",
    "```python\n",
    "def f(x):\n",
    "    return np.sin(x)\n",
    "x0 = 1\n",
    "x = nf.newton_method(f, nf.derivative_of_f, x0)\n",
    "print(x)\n",
    "```\n"
   ]
  },
  {
   "cell_type": "code",
   "source": [
    "def f(x):\n",
    "    return np.sin(x)\n",
    "x0 = 1\n",
    "x = nf.newton_method(f, nf.derivative_of_f, x0)\n",
    "print(x)\n"
   ]
  },
  {
   "cell_type": "markdown",
   "source": [
    "### Example 4: Nonlinear Buckling\n",
    "Solve $f(e) = \\sigma - E(1 + \\alpha e)e$ with given constants.\n",
    "```python\n",
    "def f(e):\n",
    "    return sigma - E * (1 + alpha * e) * e\n",
    "E = 2e11\n",
    "alpha = 0.01\n",
    "sigma = 50000\n",
    "e0 = 0\n",
    "e = nf.newton_method(f, nf.derivative_of_f, e0)\n",
    "print(e)\n",
    "```\n"
   ]
  },
  {
   "cell_type": "code",
   "source": [
    "def f(e):\n",
    "    return sigma - E * (1 + alpha * e) * e\n",
    "E = 2e11\n",
    "alpha = 0.01\n",
    "sigma = 50000\n",
    "e0 = 0\n",
    "e = nf.newton_method(f, nf.derivative_of_f, e0)\n",
    "print(e)\n"
   ]
  },
  {
   "cell_type": "markdown",
   "source": [
    "### Example 5: Pressure-Volume Relationship\n",
    "Solve $f(v) = C - P v^n$ starting from $v_0 = 1$.\n",
    "```python\n",
    "def f(v):\n",
    "    return C - P * v**n\n",
    "P = 50000\n",
    "C = 200000\n",
    "n = 1.4\n",
    "v0 = 1\n",
    "v = nf.newton_method(f, nf.derivative_of_f, v0)\n",
    "print(v)\n",
    "```\n"
   ]
  },
  {
   "cell_type": "code",
   "source": [
    "def f(v):\n",
    "    return C - P * v**n\n",
    "P = 50000\n",
    "C = 200000\n",
    "n = 1.4\n",
    "v0 = 1\n",
    "v = nf.newton_method(f, nf.derivative_of_f, v0)\n",
    "print(v)\n"
   ]
  },
  {
   "cell_type": "markdown",
   "source": [
    "### Summary\n",
    "We applied Newton's Method to solve various nonlinear equations, from simple algebraic to complex material science problems."
   ]
  }
 ],
 "metadata": {
  "kernelspec": {
   "display_name": "Python 3",
   "language": "python",
   "name": "python3"
  },
  "language_info": {
   "name": "python",
   "version": "3.8.10"
  }
 },
 "nbformat": 4,
 "nbformat_minor": 5
}
