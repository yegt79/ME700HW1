{
 "cells": [
  {
   "cell_type": "code",
   "execution_count": null,
   "id": "54f53763-df0c-4312-b6a2-d72b9f37662e",
   "metadata": {},
   "outputs": [],
   "source": [
    "import sys\n",
    "import os\n",
    "\n",
    "# Add the project root to the Python path\n",
    "sys.path.append(os.path.abspath(os.path.join('..', '..')))\n",
    "\n",
    "import numpy as np\n",
    "from src.elastoplastic import elastoplastic_functions as ef\n"
   ]
  },
  {
   "cell_type": "markdown",
   "id": "a68990eb-c64b-47ac-9e78-1cf2e9d08c4c",
   "metadata": {},
   "source": [
    "# Elasto-Plastic Material Models with Isotropic and Kinematic Hardening\n",
    "This tutorial demonstrates the implementation of isotropic and kinematic hardening models for elasto-plastic materials. The examples will run the models using different material properties and strain increments to showcase their behaviors under various loading conditions."
   ]
  },
  {
   "cell_type": "markdown",
   "id": "3fc16df2-56b7-426a-b7f6-52983a14a537",
   "metadata": {},
   "source": [
    "## Example 1: Isotropic Hardening with Small Strain Increments\n",
    "This example demonstrates the behavior of an isotropic hardening material with small strain increments. The stress-strain behavior will be tracked over several increments of strain."
   ]
  },
  {
   "cell_type": "code",
   "execution_count": null,
   "id": "8f8a83de-e1a4-4a92-9c56-f73e94d4ff97",
   "metadata": {},
   "outputs": [],
   "source": [
    "def run_isotropic_example(sig_0, ep_0, E, H, Y_0, strain_increments, n):\n",
    "    model = ef.IsotropicHardeningModel(sig_0, ep_0, E, H, Y_0, n)\n",
    "    sig, ep, Y = model.compute_stress(strain_increments)\n",
    "    return sig, ep, Y\n",
    "\n",
    "strain_increments = [0.001] * 50  # Small strain increments\n",
    "sig, ep, Y = run_isotropic_example(sig_0=0, ep_0=0, E=200e3, H=10e3, Y_0=250, strain_increments=strain_increments, n=50)\n",
    "sig[-1], ep[-1], Y[-1]"
   ]
  },
  {
   "cell_type": "markdown",
   "id": "27f6b02f-fb79-4704-b3b1-53a231a2b56f",
   "metadata": {},
   "source": [
    "### Results from Example 1\n",
    "The final stress, plastic strain, and hardening variable are displayed as the result of applying small strain increments under isotropic hardening conditions."
   ]
  },
  {
   "cell_type": "markdown",
   "id": "b8b85ef1-d8db-4683-b4f9-558967ebcd24",
   "metadata": {},
   "source": [
    "## Example 2: Kinematic Hardening under Cyclic Loading\n",
    "This example demonstrates the behavior of a kinematic hardening material under cyclic loading, with alternating strains to simulate the effect of loading and unloading."
   ]
  },
  {
   "cell_type": "code",
   "execution_count": null,
   "id": "2f7ab7f9-bf2b-4729-b779-c03d4935b009",
   "metadata": {},
   "outputs": [],
   "source": [
    "from src.elastoplastic.elastoplastic_functions import KinematicHardeningModel\n",
    "\n",
    "def run_kinematic_example(sig_0, ep_0, E, H, Y_0, strain_increments, n):\n",
    "    model = KinematicHardeningModel(sig_0, ep_0, E, H, Y_0, n)\n",
    "    sig, ep, alpha = model.compute_stress(strain_increments)\n",
    "    return sig, ep, alpha\n",
    "\n",
    "strain_increments = [0.003, -0.003] * 25  # Cyclic strain increments\n",
    "sig, ep, alpha = run_kinematic_example(sig_0=0, ep_0=0, E=200e3, H=10e3, Y_0=250, strain_increments=strain_increments, n=50)\n",
    "sig[-1], ep[-1], alpha[-1]"
   ]
  },
  {
   "cell_type": "markdown",
   "id": "4067725d-bb7f-42ae-93ca-1136e4ab90e3",
   "metadata": {},
   "source": [
    "### Results from Example 2\n",
    "The final stress, plastic strain, and kinematic hardening variable (alpha) are displayed after cyclic loading under kinematic hardening conditions."
   ]
  },
  {
   "cell_type": "markdown",
   "id": "631aaf9e-c20d-48e3-8dff-d908b04c84e6",
   "metadata": {},
   "source": [
    "## Example 3: Real-World Material (Mild Steel AISI 1008) Behavior under Isotropic Hardening\n",
    "This example applies the isotropic hardening model to Mild Steel AISI 1008, which is commonly used in engineering applications. The material properties are based on known values for this type of steel."
   ]
  },
  {
   "cell_type": "code",
   "execution_count": null,
   "id": "a5050a8b-d620-4b52-8e29-587106299b5b",
   "metadata": {},
   "outputs": [],
   "source": [
    "strain_increments = [0.001] * 50  # Small strain increments\n",
    "My_mat = ef.IsotropicHardeningModel(0, 0, 200e3, 50e3, 285, 50)\n",
    "sig, ep, Y = My_mat.compute_stress(strain_increments)\n",
    "sig[-1], ep[-1], Y[-1]"
   ]
  },
  {
   "cell_type": "markdown",
   "id": "d9db8d9f-cfa4-4f82-a94b-e5509f8ac24d",
   "metadata": {},
   "source": [
    "### Results from Example 3\n",
    "The stress, plastic strain, and hardening variable are computed for Mild Steel AISI 1008 under isotropic hardening conditions."
   ]
  },
  {
   "cell_type": "markdown",
   "id": "f9c73272-1078-44d7-b357-10a4c3a1974a",
   "metadata": {},
   "source": [
    "## Example 4: Real-World Material (Aluminum 6061 T6) Behavior under Kinematic Hardening\n",
    "This example demonstrates the kinematic hardening behavior of Aluminum 6061 T6, a commonly used material in engineering and aerospace applications."
   ]
  },
  {
   "cell_type": "code",
   "execution_count": null,
   "id": "07c402ba-c015-42d1-9de9-8db6cc67fd12",
   "metadata": {},
   "outputs": [],
   "source": [
    "strain_increments = [0.003, -0.003] * 25  # Cyclic strain increments\n",
    "My_mat = ef.KinematicHardeningModel(0, 0, 0, 69000, 7000, 276, 50)\n",
    "sig, ep, alpha = My_mat.compute_stress(strain_increments)\n",
    "sig[-1], ep[-1], alpha[-1]"
   ]
  },
  {
   "cell_type": "markdown",
   "id": "f67d69e7-544f-4b72-8d57-d4e9334c9c84",
   "metadata": {},
   "source": [
    "### Results from Example 4\n",
    "The stress, plastic strain, and kinematic hardening variable (alpha) are displayed for Aluminum 6061 T6 under cyclic loading conditions."
   ]
  }
 ],
 "metadata": {
  "kernelspec": {
   "display_name": "Python 3 (ipykernel)",
   "language": "python",
   "name": "python3"
  },
  "language_info": {
   "codemirror_mode": {
    "name": "ipython",
    "version": 3
   },
   "file_extension": ".py",
   "mimetype": "text/x-python",
   "name": "python",
   "nbconvert_exporter": "python",
   "pygments_lexer": "ipython3",
   "version": "3.9.13"
  }
 },
 "nbformat": 4,
 "nbformat_minor": 5
}
