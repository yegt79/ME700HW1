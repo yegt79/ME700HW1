{
 "cells": [
  {
   "cell_type": "markdown",
   "metadata": {},
   "source": ["# Elasto-Plastic Tutorial"]
  },
  {
   "cell_type": "markdown",
   "metadata": {},
   "source": ["This notebook demonstrates isotropic and kinematic hardening models using multiple strain increments."]
  },
  {
   "cell_type": "code",
   "metadata": {},
   "outputs": [],
   "source": [
    "import numpy as np\n",
    "from src.elastoplastic import elastoplastic_functions as ef"
   ]
  },
  {
   "cell_type": "markdown",
   "metadata": {},
   "source": ["## Example 1: Isotropic Hardening - Class Example Test\n",
   "This example replicates an isotropic hardening material used in class to verify the code works correctly."]
  },
  {
   "cell_type": "code",
   "metadata": {},
   "outputs": [],
   "source": [
    "strain_increments = np.linspace(0, 0.1, 10)\n",
    "sig, ep, Y = ef.run_isotropic_example(sig_0=0, ep_0=0, E=200e3, H=10e3, Y_0=250, strain_increments=strain_increments, n=50)\n",
    "print('Final Stress:', sig[-1], 'Final Plastic Strain:', ep[-1])"
   ]
  },
  {
   "cell_type": "markdown",
   "metadata": {},
   "source": ["## Example 2: Kinematic Hardening - Class Example Test\n",
   "This example runs a kinematic hardening material to verify the function works properly."]
  },
  {
   "cell_type": "code",
   "metadata": {},
   "outputs": [],
   "source": [
    "sig, ep, alpha = ef.run_kinematic_example(sig_0=0, ep_0=0, E=200e3, H=15e3, Y_0=275, strain_increments=strain_increments, n=50)\n",
    "print('Final Stress:', sig[-1], 'Final Plastic Strain:', ep[-1])"
   ]
  },
  {
   "cell_type": "markdown",
   "metadata": {},
   "source": ["## Example 3: Mild Steel AISI 1008 (Isotropic Hardening)\n",
   "Mild steel exhibits isotropic hardening behavior. Properties:\n",
   "- Elastic Modulus: 200 GPa\n",
   "- Plastic Modulus: 50 GPa\n",
   "- Yield Strength: 285 MPa"]
  },
  {
   "cell_type": "code",
   "metadata": {},
   "outputs": [],
   "source": [
    "sig, ep, Y = ef.run_isotropic_example(sig_0=0, ep_0=0, E=200e3, H=50e3, Y_0=285, strain_increments=strain_increments, n=50)\n",
    "print('Final Stress:', sig[-1], 'Final Plastic Strain:', ep[-1])"
   ]
  },
  {
   "cell_type": "markdown",
   "metadata": {},
   "source": ["## Example 4: Aluminum 6061-T6 (Kinematic Hardening)\n",
   "Aluminum used in sheet metal forming behaves with kinematic hardening. Properties:\n",
   "- Elastic Modulus: 69 GPa\n",
   "- Plastic Modulus: 7 GPa\n",
   "- Yield Strength: 276 MPa"]
  },
  {
   "cell_type": "code",
   "metadata": {},
   "outputs": [],
   "source": [
    "sig, ep, alpha = ef.run_kinematic_example(sig_0=0, ep_0=0, E=69e3, H=7e3, Y_0=276, strain_increments=strain_increments, n=50)\n",
    "print('Final Stress:', sig[-1], 'Final Plastic Strain:', ep[-1])"
   ]
  },
  {
   "cell_type": "markdown",
   "metadata": {},
   "source": ["## Example 5: Titanium (Isotropic Hardening)\n",
   "Titanium (Grade 1) primarily exhibits isotropic hardening. Properties:\n",
   "- Elastic Modulus: 120 GPa\n",
   "- Plastic Modulus: 12 GPa\n",
   "- Yield Strength: 240 MPa"]
  },
  {
   "cell_type": "code",
   "metadata": {},
   "outputs": [],
   "source": [
    "sig, ep, Y = ef.run_isotropic_example(sig_0=0, ep_0=0, E=120e3, H=12e3, Y_0=240, strain_increments=strain_increments, n=50)\n",
    "print('Final Stress:', sig[-1], 'Final Plastic Strain:', ep[-1])"
   ]
  },
  {
   "cell_type": "markdown",
   "metadata": {},
   "source": ["## Tutorial Completed!"]
  }
 ],
 "metadata": {
  "kernelspec": {
   "display_name": "Python 3",
   "language": "python",
   "name": "python3"
  },
  "language_info": {
   "codemirror_mode": {
    "name": "ipython",
    "version": 3
   },
   "file_extension": ".py",
   "mimetype": "text/x-python",
   "name": "python",
   "nbconvert_exporter": "python",
   "pygments_lexer": "ipython3",
   "version": "3.9.13"
  }
 },
 "nbformat": 4,
 "nbformat_minor": 5
}
