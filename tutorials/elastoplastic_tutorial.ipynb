{
 "cells": [
  {
   "cell_type": "markdown",
   "id": "1",
   "metadata": {},
   "source": [
    "# Elasto-Plastic Tutorial: Multiple Strain Increments"
   ]
  },
  {
   "cell_type": "markdown",
   "id": "2",
   "metadata": {},
   "source": [
    "This tutorial demonstrates how to run examples using both isotropic and kinematic hardening models with multiple strain increments."
   ]
  },
  {
   "cell_type": "markdown",
   "id": "3",
   "metadata": {},
   "source": [
    "## Example 1: Isotropic Hardening with Multiple Strain Increments"
   ]
  },
  {
   "cell_type": "markdown",
   "id": "4",
   "metadata": {},
   "source": [
    "This example simulates the behavior of a material with isotropic hardening. We will run the model over multiple strain increments and observe how the stress and plastic strain evolve."
   ]
  },
  {
   "cell_type": "code",
   "execution_count": null,
   "id": "5",
   "metadata": {},
   "outputs": [],
   "source": [
    "import numpy as np\n",
    "from test_MaterialModel import IsotropicHardeningModel, KinematicHardeningModel\n",
    "\n",
    "def run_isotropic_example(sig_0, ep_0, E, H, Y_0, strain_increments, n):\n",
    "    model = IsotropicHardeningModel(sig_0, ep_0, E, H, Y_0, n)\n",
    "    sig_list = []\n",
    "    ep_list = []\n",
    "    Y_list = []\n",
    "    for de in strain_increments:\n",
    "        sig, ep, Y = model.compute_stress(de)\n",
    "        sig_list.append(sig)\n",
    "        ep_list.append(ep)\n",
    "        Y_list.append(Y)\n",
    "    return np.array(sig_list), np.array(ep_list), np.array(Y_list)\n",
    "\n",
    "strain_increments = np.linspace(0, 0.1, 10)  # Example: 10 increments from 0 to 0.1\n",
    "sig, ep, Y = run_isotropic_example(sig_0=0, ep_0=0, E=200e3, H=10e3, Y_0=250, strain_increments=strain_increments, n=50)\n",
    "sig, ep, Y"
   ]
  },
  {
   "cell_type": "markdown",
   "id": "6",
   "metadata": {},
   "source": [
    "### Example 1 Output\n",
    "The following outputs show the evolution of stress, plastic strain, and back stress (Y) over the strain increments."
   ]
  },
  {
   "cell_type": "markdown",
   "id": "7",
   "metadata": {},
   "source": [
    "## Example 2: Isotropic Hardening with Larger Strain Increments"
   ]
  },
  {
   "cell_type": "markdown",
   "id": "8",
   "metadata": {},
   "source": [
    "This example simulates isotropic hardening with larger strain increments (0 to 0.2). We will observe how the material responds under larger strain."
   ]
  },
  {
   "cell_type": "code",
   "execution_count": null,
   "id": "9",
   "metadata": {},
   "outputs": [],
   "source": [
    "strain_increments_large = np.linspace(0, 0.2, 5)  # Larger increments from 0 to 0.2\n",
    "sig, ep, Y = run_isotropic_example(sig_0=0, ep_0=0, E=200e3, H=20e3, Y_0=300, strain_increments=strain_increments_large, n=50)\n",
    "sig, ep, Y"
   ]
  },
  {
   "cell_type": "markdown",
   "id": "10",
   "metadata": {},
   "source": [
    "### Example 2 Output\n",
    "This shows how the stress, plastic strain, and back stress evolve with larger strain increments."
   ]
  },
  {
   "cell_type": "markdown",
   "id": "11",
   "metadata": {},
   "source": [
    "## Example 3: Kinematic Hardening with Multiple Strain Increments"
   ]
  },
  {
   "cell_type": "markdown",
   "id": "12",
   "metadata": {},
   "source": [
    "Now, we simulate the behavior of a material with kinematic hardening over multiple strain increments."
   ]
  },
  {
   "cell_type": "code",
   "execution_count": null,
   "id": "13",
   "metadata": {},
   "outputs": [],
   "source": [
    "def run_kinematic_example(sig_0, ep_0, E, H, Y_0, strain_increments, n):\n",
    "    model = KinematicHardeningModel(sig_0, ep_0, E, H, Y_0, n)\n",
    "    sig_list = []\n",
    "    ep_list = []\n",
    "    alpha_list = []\n",
    "    for de in strain_increments:\n",
    "        sig, ep, alpha = model.compute_stress(de)\n",
    "        sig_list.append(sig)\n",
    "        ep_list.append(ep)\n",
    "        alpha_list.append(alpha)\n",
    "    return np.array(sig_list), np.array(ep_list), np.array(alpha_list)\n",
    "\n",
    "sig, ep, alpha = run_kinematic_example(sig_0=0, ep_0=0, E=200e3, H=15e3, Y_0=275, strain_increments=strain_increments, n=50)\n",
    "sig, ep, alpha"
   ]
  },
  {
   "cell_type": "markdown",
   "id": "14",
   "metadata": {},
   "source": [
    "### Example 3 Output\n",
    "The following outputs show the evolution of stress, plastic strain, and back stress (alpha) over the strain increments."
   ]
  },
  {
   "cell_type": "markdown",
   "id": "15",
   "metadata": {},
   "source": [
    "## Example 4: Kinematic Hardening with Larger Strain Increments"
   ]
  },
  {
   "cell_type": "markdown",
   "id": "16",
   "metadata": {},
   "source": [
    "In this example, we use larger strain increments (0 to 0.2) for the kinematic hardening model and observe the material's response."
   ]
  },
  {
   "cell_type": "code",
   "execution_count": null,
   "id": "17",
   "metadata": {},
   "outputs": [],
   "source": [
    "sig, ep, alpha = run_kinematic_example(sig_0=0, ep_0=0, E=210e3, H=12e3, Y_0=280, strain_increments=strain_increments_large, n=50)\n",
    "sig, ep, alpha"
   ]
  },
  {
   "cell_type": "markdown",
   "id": "18",
   "metadata": {},
   "source": [
    "### Example 4 Output\n",
    "The output here shows how the stress, plastic strain, and back stress evolve with larger strain increments."
   ]
  },
  {
   "cell_type": "markdown",
   "id": "19",
   "metadata": {},
   "source": [
    "## Example 5: Comparison of Isotropic and Kinematic Hardening with Multiple Strain Increments"
   ]
  },
  {
   "cell_type": "markdown",
   "id": "20",
   "metadata": {},
   "source": [
    "In this example, we compare the isotropic and kinematic hardening models using the same strain increments to observe the differences in material behavior."
   ]
  },
  {
   "cell_type": "code",
   "execution_count": null,
   "id": "21",
   "metadata": {},
   "outputs": [],
   "source": [
    "sig_iso, ep_iso, _ = run_isotropic_example(sig_0=0, ep_0=0, E=200e3, H=10e3, Y_0=260, strain_increments=strain_increments, n=50)\n",
    "sig_kin, ep_kin, _ = run_kinematic_example(sig_0=0, ep_0=0, E=200e3, H=10e3, Y_0=260, strain_increments=strain_increments, n=50)\n",
    "sig_iso, ep_iso, sig_kin, ep_kin"
   ]
  },
  {
   "cell_type": "markdown",
   "id": "22",
   "metadata": {},
   "source": [
    "### Example 5 Output\n",
    "Here we compare the final stress and plastic strain values for isotropic and kinematic hardening under the same strain increments."
   ]
  }
 ],
 "metadata": {
  "kernelspec": {
   "display_name": "Python 3 (ipykernel)",
   "language": "python",
   "name": "python3"
  },
  "language_info": {
   "codemirror_mode": {
    "name": "ipython",
    "version": 3
   },
   "file_extension": ".py",
   "mimetype": "text/x-python",
   "name": "python",
   "nbconvert_exporter": "python",
   "pygments_lexer": "ipython3",
   "version": "3.9.13"
  }
 },
 "nbformat": 4,
 "nbformat_minor": 5
}
